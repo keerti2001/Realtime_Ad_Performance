{
 "cells": [
  {
   "cell_type": "code",
   "execution_count": 1,
   "metadata": {},
   "outputs": [
    {
     "name": "stdout",
     "output_type": "stream",
     "text": [
      "Python 3.9.13\n"
     ]
    }
   ],
   "source": [
    "!python --version"
   ]
  },
  {
   "cell_type": "code",
   "execution_count": null,
   "metadata": {},
   "outputs": [
    {
     "name": "stdout",
     "output_type": "stream",
     "text": [
      "Defaulting to user installation because normal site-packages is not writeable\n",
      "Requirement already satisfied: pip in c:\\program files (x86)\\microsoft visual studio\\shared\\python39_64\\lib\\site-packages (22.0.4)\n",
      "Collecting pip\n",
      "  Downloading pip-24.2-py3-none-any.whl (1.8 MB)\n",
      "     ---------------------------------------- 1.8/1.8 MB 6.1 MB/s eta 0:00:00\n",
      "Installing collected packages: pip\n",
      "Successfully installed pip-24.2\n"
     ]
    },
    {
     "name": "stderr",
     "output_type": "stream",
     "text": [
      "WARNING: You are using pip version 22.0.4; however, version 24.2 is available.\n",
      "You should consider upgrading via the 'c:\\Program Files (x86)\\Microsoft Visual Studio\\Shared\\Python39_64\\python.exe -m pip install --upgrade pip' command.\n"
     ]
    }
   ],
   "source": [
    "!python -m pip install --upgrade pip\n"
   ]
  },
  {
   "cell_type": "code",
   "execution_count": 13,
   "metadata": {},
   "outputs": [
    {
     "name": "stdout",
     "output_type": "stream",
     "text": [
      "Defaulting to user installation because normal site-packages is not writeable\n",
      "Requirement already satisfied: google-ads in c:\\users\\kechaudhary\\appdata\\roaming\\python\\python39\\site-packages (25.0.0)\n",
      "Requirement already satisfied: facebook-business in c:\\users\\kechaudhary\\appdata\\roaming\\python\\python39\\site-packages (20.0.2)\n",
      "Requirement already satisfied: pandas in c:\\users\\kechaudhary\\appdata\\roaming\\python\\python39\\site-packages (2.2.2)\n",
      "Requirement already satisfied: numpy in c:\\users\\kechaudhary\\appdata\\roaming\\python\\python39\\site-packages (2.0.2)\n",
      "Requirement already satisfied: matplotlib in c:\\users\\kechaudhary\\appdata\\roaming\\python\\python39\\site-packages (3.9.2)\n",
      "Requirement already satisfied: seaborn in c:\\users\\kechaudhary\\appdata\\roaming\\python\\python39\\site-packages (0.13.2)\n",
      "Requirement already satisfied: google-auth-oauthlib<2.0.0,>=0.3.0 in c:\\users\\kechaudhary\\appdata\\roaming\\python\\python39\\site-packages (from google-ads) (1.2.1)\n",
      "Requirement already satisfied: google-api-core<=3.0.0,>=2.13.0 in c:\\users\\kechaudhary\\appdata\\roaming\\python\\python39\\site-packages (from google-ads) (2.19.2)\n",
      "Requirement already satisfied: googleapis-common-protos<2.0.0,>=1.56.3 in c:\\users\\kechaudhary\\appdata\\roaming\\python\\python39\\site-packages (from google-ads) (1.65.0)\n",
      "Requirement already satisfied: grpcio<2.0.0,>=1.59.0 in c:\\users\\kechaudhary\\appdata\\roaming\\python\\python39\\site-packages (from google-ads) (1.66.1)\n",
      "Requirement already satisfied: grpcio-status<2.0.0,>=1.59.0 in c:\\users\\kechaudhary\\appdata\\roaming\\python\\python39\\site-packages (from google-ads) (1.66.1)\n",
      "Requirement already satisfied: proto-plus<2.0.0,>=1.22.3 in c:\\users\\kechaudhary\\appdata\\roaming\\python\\python39\\site-packages (from google-ads) (1.24.0)\n",
      "Requirement already satisfied: PyYAML<7.0,>=5.1 in c:\\users\\kechaudhary\\appdata\\roaming\\python\\python39\\site-packages (from google-ads) (6.0.2)\n",
      "Requirement already satisfied: protobuf<6.0.0,>=4.25.0 in c:\\users\\kechaudhary\\appdata\\roaming\\python\\python39\\site-packages (from google-ads) (5.28.1)\n",
      "Requirement already satisfied: requests>=2.3.0 in c:\\users\\kechaudhary\\appdata\\roaming\\python\\python39\\site-packages (from facebook-business) (2.32.3)\n",
      "Requirement already satisfied: six>=1.7.3 in c:\\users\\kechaudhary\\appdata\\roaming\\python\\python39\\site-packages (from facebook-business) (1.16.0)\n",
      "Requirement already satisfied: curlify>=2.1.0 in c:\\users\\kechaudhary\\appdata\\roaming\\python\\python39\\site-packages (from facebook-business) (2.2.1)\n",
      "Requirement already satisfied: pycountry>=19.8.18 in c:\\users\\kechaudhary\\appdata\\roaming\\python\\python39\\site-packages (from facebook-business) (24.6.1)\n",
      "Requirement already satisfied: aiohttp in c:\\users\\kechaudhary\\appdata\\roaming\\python\\python39\\site-packages (from facebook-business) (3.10.5)\n",
      "Requirement already satisfied: python-dateutil>=2.8.2 in c:\\users\\kechaudhary\\appdata\\roaming\\python\\python39\\site-packages (from pandas) (2.9.0.post0)\n",
      "Requirement already satisfied: pytz>=2020.1 in c:\\users\\kechaudhary\\appdata\\roaming\\python\\python39\\site-packages (from pandas) (2024.2)\n",
      "Requirement already satisfied: tzdata>=2022.7 in c:\\users\\kechaudhary\\appdata\\roaming\\python\\python39\\site-packages (from pandas) (2024.1)\n",
      "Requirement already satisfied: contourpy>=1.0.1 in c:\\users\\kechaudhary\\appdata\\roaming\\python\\python39\\site-packages (from matplotlib) (1.3.0)\n",
      "Requirement already satisfied: cycler>=0.10 in c:\\users\\kechaudhary\\appdata\\roaming\\python\\python39\\site-packages (from matplotlib) (0.12.1)\n",
      "Requirement already satisfied: fonttools>=4.22.0 in c:\\users\\kechaudhary\\appdata\\roaming\\python\\python39\\site-packages (from matplotlib) (4.53.1)\n",
      "Requirement already satisfied: kiwisolver>=1.3.1 in c:\\users\\kechaudhary\\appdata\\roaming\\python\\python39\\site-packages (from matplotlib) (1.4.7)\n",
      "Requirement already satisfied: packaging>=20.0 in c:\\users\\kechaudhary\\appdata\\roaming\\python\\python39\\site-packages (from matplotlib) (24.1)\n",
      "Requirement already satisfied: pillow>=8 in c:\\users\\kechaudhary\\appdata\\roaming\\python\\python39\\site-packages (from matplotlib) (10.4.0)\n",
      "Requirement already satisfied: pyparsing>=2.3.1 in c:\\users\\kechaudhary\\appdata\\roaming\\python\\python39\\site-packages (from matplotlib) (3.1.4)\n",
      "Requirement already satisfied: importlib-resources>=3.2.0 in c:\\users\\kechaudhary\\appdata\\roaming\\python\\python39\\site-packages (from matplotlib) (6.4.5)\n",
      "Requirement already satisfied: google-auth<3.0.dev0,>=2.14.1 in c:\\users\\kechaudhary\\appdata\\roaming\\python\\python39\\site-packages (from google-api-core<=3.0.0,>=2.13.0->google-ads) (2.34.0)\n",
      "Requirement already satisfied: requests-oauthlib>=0.7.0 in c:\\users\\kechaudhary\\appdata\\roaming\\python\\python39\\site-packages (from google-auth-oauthlib<2.0.0,>=0.3.0->google-ads) (2.0.0)\n",
      "Requirement already satisfied: zipp>=3.1.0 in c:\\users\\kechaudhary\\appdata\\roaming\\python\\python39\\site-packages (from importlib-resources>=3.2.0->matplotlib) (3.20.2)\n",
      "Requirement already satisfied: charset-normalizer<4,>=2 in c:\\users\\kechaudhary\\appdata\\roaming\\python\\python39\\site-packages (from requests>=2.3.0->facebook-business) (3.3.2)\n",
      "Requirement already satisfied: idna<4,>=2.5 in c:\\users\\kechaudhary\\appdata\\roaming\\python\\python39\\site-packages (from requests>=2.3.0->facebook-business) (3.10)\n",
      "Requirement already satisfied: urllib3<3,>=1.21.1 in c:\\users\\kechaudhary\\appdata\\roaming\\python\\python39\\site-packages (from requests>=2.3.0->facebook-business) (2.2.3)\n",
      "Requirement already satisfied: certifi>=2017.4.17 in c:\\users\\kechaudhary\\appdata\\roaming\\python\\python39\\site-packages (from requests>=2.3.0->facebook-business) (2024.8.30)\n",
      "Requirement already satisfied: aiohappyeyeballs>=2.3.0 in c:\\users\\kechaudhary\\appdata\\roaming\\python\\python39\\site-packages (from aiohttp->facebook-business) (2.4.0)\n",
      "Requirement already satisfied: aiosignal>=1.1.2 in c:\\users\\kechaudhary\\appdata\\roaming\\python\\python39\\site-packages (from aiohttp->facebook-business) (1.3.1)\n",
      "Requirement already satisfied: attrs>=17.3.0 in c:\\users\\kechaudhary\\appdata\\roaming\\python\\python39\\site-packages (from aiohttp->facebook-business) (24.2.0)\n",
      "Requirement already satisfied: frozenlist>=1.1.1 in c:\\users\\kechaudhary\\appdata\\roaming\\python\\python39\\site-packages (from aiohttp->facebook-business) (1.4.1)\n",
      "Requirement already satisfied: multidict<7.0,>=4.5 in c:\\users\\kechaudhary\\appdata\\roaming\\python\\python39\\site-packages (from aiohttp->facebook-business) (6.1.0)\n",
      "Requirement already satisfied: yarl<2.0,>=1.0 in c:\\users\\kechaudhary\\appdata\\roaming\\python\\python39\\site-packages (from aiohttp->facebook-business) (1.11.1)\n",
      "Requirement already satisfied: async-timeout<5.0,>=4.0 in c:\\users\\kechaudhary\\appdata\\roaming\\python\\python39\\site-packages (from aiohttp->facebook-business) (4.0.3)\n",
      "Requirement already satisfied: cachetools<6.0,>=2.0.0 in c:\\users\\kechaudhary\\appdata\\roaming\\python\\python39\\site-packages (from google-auth<3.0.dev0,>=2.14.1->google-api-core<=3.0.0,>=2.13.0->google-ads) (5.5.0)\n",
      "Requirement already satisfied: pyasn1-modules>=0.2.1 in c:\\users\\kechaudhary\\appdata\\roaming\\python\\python39\\site-packages (from google-auth<3.0.dev0,>=2.14.1->google-api-core<=3.0.0,>=2.13.0->google-ads) (0.4.1)\n",
      "Requirement already satisfied: rsa<5,>=3.1.4 in c:\\users\\kechaudhary\\appdata\\roaming\\python\\python39\\site-packages (from google-auth<3.0.dev0,>=2.14.1->google-api-core<=3.0.0,>=2.13.0->google-ads) (4.9)\n",
      "Requirement already satisfied: typing-extensions>=4.1.0 in c:\\users\\kechaudhary\\appdata\\roaming\\python\\python39\\site-packages (from multidict<7.0,>=4.5->aiohttp->facebook-business) (4.12.2)\n",
      "Requirement already satisfied: oauthlib>=3.0.0 in c:\\users\\kechaudhary\\appdata\\roaming\\python\\python39\\site-packages (from requests-oauthlib>=0.7.0->google-auth-oauthlib<2.0.0,>=0.3.0->google-ads) (3.2.2)\n",
      "Requirement already satisfied: pyasn1<0.7.0,>=0.4.6 in c:\\users\\kechaudhary\\appdata\\roaming\\python\\python39\\site-packages (from pyasn1-modules>=0.2.1->google-auth<3.0.dev0,>=2.14.1->google-api-core<=3.0.0,>=2.13.0->google-ads) (0.6.1)\n"
     ]
    }
   ],
   "source": [
    "!python -m pip install google-ads facebook-business pandas numpy matplotlib seaborn\n"
   ]
  },
  {
   "cell_type": "code",
   "execution_count": 10,
   "metadata": {},
   "outputs": [
    {
     "name": "stdout",
     "output_type": "stream",
     "text": [
      "Defaulting to user installation because normal site-packages is not writeable\n",
      "Requirement already satisfied: google-ads in c:\\users\\kechaudhary\\appdata\\roaming\\python\\python39\\site-packages (25.0.0)\n",
      "Requirement already satisfied: google-auth-oauthlib<2.0.0,>=0.3.0 in c:\\users\\kechaudhary\\appdata\\roaming\\python\\python39\\site-packages (from google-ads) (1.2.1)\n",
      "Requirement already satisfied: google-api-core<=3.0.0,>=2.13.0 in c:\\users\\kechaudhary\\appdata\\roaming\\python\\python39\\site-packages (from google-ads) (2.19.2)\n",
      "Requirement already satisfied: googleapis-common-protos<2.0.0,>=1.56.3 in c:\\users\\kechaudhary\\appdata\\roaming\\python\\python39\\site-packages (from google-ads) (1.65.0)\n",
      "Requirement already satisfied: grpcio<2.0.0,>=1.59.0 in c:\\users\\kechaudhary\\appdata\\roaming\\python\\python39\\site-packages (from google-ads) (1.66.1)\n",
      "Requirement already satisfied: grpcio-status<2.0.0,>=1.59.0 in c:\\users\\kechaudhary\\appdata\\roaming\\python\\python39\\site-packages (from google-ads) (1.66.1)\n",
      "Requirement already satisfied: proto-plus<2.0.0,>=1.22.3 in c:\\users\\kechaudhary\\appdata\\roaming\\python\\python39\\site-packages (from google-ads) (1.24.0)\n",
      "Requirement already satisfied: PyYAML<7.0,>=5.1 in c:\\users\\kechaudhary\\appdata\\roaming\\python\\python39\\site-packages (from google-ads) (6.0.2)\n",
      "Requirement already satisfied: protobuf<6.0.0,>=4.25.0 in c:\\users\\kechaudhary\\appdata\\roaming\\python\\python39\\site-packages (from google-ads) (5.28.1)\n",
      "Requirement already satisfied: google-auth<3.0.dev0,>=2.14.1 in c:\\users\\kechaudhary\\appdata\\roaming\\python\\python39\\site-packages (from google-api-core<=3.0.0,>=2.13.0->google-ads) (2.34.0)\n",
      "Requirement already satisfied: requests<3.0.0.dev0,>=2.18.0 in c:\\users\\kechaudhary\\appdata\\roaming\\python\\python39\\site-packages (from google-api-core<=3.0.0,>=2.13.0->google-ads) (2.32.3)\n",
      "Requirement already satisfied: requests-oauthlib>=0.7.0 in c:\\users\\kechaudhary\\appdata\\roaming\\python\\python39\\site-packages (from google-auth-oauthlib<2.0.0,>=0.3.0->google-ads) (2.0.0)\n",
      "Requirement already satisfied: cachetools<6.0,>=2.0.0 in c:\\users\\kechaudhary\\appdata\\roaming\\python\\python39\\site-packages (from google-auth<3.0.dev0,>=2.14.1->google-api-core<=3.0.0,>=2.13.0->google-ads) (5.5.0)\n",
      "Requirement already satisfied: pyasn1-modules>=0.2.1 in c:\\users\\kechaudhary\\appdata\\roaming\\python\\python39\\site-packages (from google-auth<3.0.dev0,>=2.14.1->google-api-core<=3.0.0,>=2.13.0->google-ads) (0.4.1)\n",
      "Requirement already satisfied: rsa<5,>=3.1.4 in c:\\users\\kechaudhary\\appdata\\roaming\\python\\python39\\site-packages (from google-auth<3.0.dev0,>=2.14.1->google-api-core<=3.0.0,>=2.13.0->google-ads) (4.9)\n",
      "Requirement already satisfied: charset-normalizer<4,>=2 in c:\\users\\kechaudhary\\appdata\\roaming\\python\\python39\\site-packages (from requests<3.0.0.dev0,>=2.18.0->google-api-core<=3.0.0,>=2.13.0->google-ads) (3.3.2)\n",
      "Requirement already satisfied: idna<4,>=2.5 in c:\\users\\kechaudhary\\appdata\\roaming\\python\\python39\\site-packages (from requests<3.0.0.dev0,>=2.18.0->google-api-core<=3.0.0,>=2.13.0->google-ads) (3.10)\n",
      "Requirement already satisfied: urllib3<3,>=1.21.1 in c:\\users\\kechaudhary\\appdata\\roaming\\python\\python39\\site-packages (from requests<3.0.0.dev0,>=2.18.0->google-api-core<=3.0.0,>=2.13.0->google-ads) (2.2.3)\n",
      "Requirement already satisfied: certifi>=2017.4.17 in c:\\users\\kechaudhary\\appdata\\roaming\\python\\python39\\site-packages (from requests<3.0.0.dev0,>=2.18.0->google-api-core<=3.0.0,>=2.13.0->google-ads) (2024.8.30)\n",
      "Requirement already satisfied: oauthlib>=3.0.0 in c:\\users\\kechaudhary\\appdata\\roaming\\python\\python39\\site-packages (from requests-oauthlib>=0.7.0->google-auth-oauthlib<2.0.0,>=0.3.0->google-ads) (3.2.2)\n",
      "Requirement already satisfied: pyasn1<0.7.0,>=0.4.6 in c:\\users\\kechaudhary\\appdata\\roaming\\python\\python39\\site-packages (from pyasn1-modules>=0.2.1->google-auth<3.0.dev0,>=2.14.1->google-api-core<=3.0.0,>=2.13.0->google-ads) (0.6.1)\n",
      "Name: google-ads\n",
      "Version: 25.0.0\n",
      "Summary: Client library for the Google Ads API\n",
      "Home-page: https://github.com/googleads/google-ads-python\n",
      "Author: Google LLC\n",
      "Author-email: googleapis-packages@google.com\n",
      "License: Apache 2.0\n",
      "Location: c:\\users\\kechaudhary\\appdata\\roaming\\python\\python39\\site-packages\n",
      "Requires: google-api-core, google-auth-oauthlib, googleapis-common-protos, grpcio, grpcio-status, proto-plus, protobuf, PyYAML\n",
      "Required-by: \n"
     ]
    }
   ],
   "source": [
    "!python -m pip install google-ads\n",
    "\n",
    "\n",
    "!pip show google-ads\n"
   ]
  },
  {
   "cell_type": "code",
   "execution_count": 11,
   "metadata": {},
   "outputs": [
    {
     "name": "stdout",
     "output_type": "stream",
     "text": [
      "c:\\Program Files (x86)\\Microsoft Visual Studio\\Shared\\Python39_64\\python.exe\n"
     ]
    }
   ],
   "source": [
    "import sys\n",
    "print(sys.executable)\n"
   ]
  },
  {
   "cell_type": "code",
   "execution_count": 12,
   "metadata": {},
   "outputs": [
    {
     "ename": "ModuleNotFoundError",
     "evalue": "No module named 'google.ads.google_ads'",
     "output_type": "error",
     "traceback": [
      "\u001b[1;31m---------------------------------------------------------------------------\u001b[0m",
      "\u001b[1;31mModuleNotFoundError\u001b[0m                       Traceback (most recent call last)",
      "Cell \u001b[1;32mIn[12], line 1\u001b[0m\n\u001b[1;32m----> 1\u001b[0m \u001b[38;5;28;01mfrom\u001b[39;00m \u001b[38;5;21;01mgoogle\u001b[39;00m\u001b[38;5;21;01m.\u001b[39;00m\u001b[38;5;21;01mads\u001b[39;00m\u001b[38;5;21;01m.\u001b[39;00m\u001b[38;5;21;01mgoogle_ads\u001b[39;00m\u001b[38;5;21;01m.\u001b[39;00m\u001b[38;5;21;01mclient\u001b[39;00m \u001b[38;5;28;01mimport\u001b[39;00m GoogleAdsClient\n",
      "\u001b[1;31mModuleNotFoundError\u001b[0m: No module named 'google.ads.google_ads'"
     ]
    }
   ],
   "source": [
    "from google.ads.google_ads.client import GoogleAdsClient\n"
   ]
  },
  {
   "cell_type": "code",
   "execution_count": 22,
   "metadata": {},
   "outputs": [
    {
     "ename": "SyntaxError",
     "evalue": "invalid syntax (2308070988.py, line 1)",
     "output_type": "error",
     "traceback": [
      "\u001b[1;36m  Cell \u001b[1;32mIn[22], line 1\u001b[1;36m\u001b[0m\n\u001b[1;33m    from google-ads.google_ads.client import GoogleAdsClient\u001b[0m\n\u001b[1;37m               ^\u001b[0m\n\u001b[1;31mSyntaxError\u001b[0m\u001b[1;31m:\u001b[0m invalid syntax\n"
     ]
    }
   ],
   "source": [
    "from google-ads.google_ads.client import GoogleAdsClient\n",
    "import pandas as pd\n",
    "\n",
    "# Initialize the Google Ads client\n",
    "client = GoogleAdsClient.load_from_storage('google-ads.yaml')\n",
    "\n",
    "def fetch_google_ads_data(client):\n",
    "    query = \"\"\"\n",
    "    SELECT\n",
    "      campaign.id,\n",
    "      ad_group.id,\n",
    "      ad_group_ad.ad.id,\n",
    "      ad_group_ad.ad.expanded_text_ad.headline_part1,\n",
    "      ad_group_ad.ad.expanded_text_ad.headline_part2,\n",
    "      ad_group_ad.ad.expanded_text_ad.description,\n",
    "      metrics.impressions,\n",
    "      metrics.clicks,\n",
    "      metrics.cost_micros\n",
    "    FROM\n",
    "      ad_group_ad\n",
    "    WHERE\n",
    "      segments.date DURING LAST_7_DAYS\n",
    "    \"\"\"\n",
    "    ga_service = client.get_service(\"GoogleAdsService\")\n",
    "    response = ga_service.search(query=query)\n",
    "    \n",
    "    data = []\n",
    "    for row in response:\n",
    "        data.append({\n",
    "            'campaign_id': row.campaign.id.value,\n",
    "            'ad_group_id': row.ad_group.id.value,\n",
    "            'ad_id': row.ad_group_ad.ad.id.value,\n",
    "            'headline_part1': row.ad_group_ad.ad.expanded_text_ad.headline_part1.value,\n",
    "            'headline_part2': row.ad_group_ad.ad.expanded_text_ad.headline_part2.value,\n",
    "            'description': row.ad_group_ad.ad.expanded_text_ad.description.value,\n",
    "            'impressions': row.metrics.impressions.value,\n",
    "            'clicks': row.metrics.clicks.value,\n",
    "            'cost_micros': row.metrics.cost_micros.value / 1e6  # Convert micros to dollars\n",
    "        })\n",
    "    \n",
    "    return pd.DataFrame(data)\n",
    "\n",
    "google_ads_df = fetch_google_ads_data(client)\n",
    "google_ads_df.to_csv('google_ads_data.csv', index=False)\n"
   ]
  }
 ],
 "metadata": {
  "kernelspec": {
   "display_name": "Python 3",
   "language": "python",
   "name": "python3"
  },
  "language_info": {
   "codemirror_mode": {
    "name": "ipython",
    "version": 3
   },
   "file_extension": ".py",
   "mimetype": "text/x-python",
   "name": "python",
   "nbconvert_exporter": "python",
   "pygments_lexer": "ipython3",
   "version": "3.9.13"
  }
 },
 "nbformat": 4,
 "nbformat_minor": 2
}
